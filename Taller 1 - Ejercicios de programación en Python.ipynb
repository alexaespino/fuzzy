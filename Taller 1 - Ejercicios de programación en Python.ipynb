{
 "cells": [
  {
   "cell_type": "markdown",
   "metadata": {},
   "source": [
    "<h3>Taller 1 - Introducción a Python y Numpy</h3>\n",
    "Ejercicios para familiarizarse con la programación en Python<br>\n",
    "Autor: Claudio Morales D.<br>\n",
    "Santiago, Chile, 2020"
   ]
  },
  {
   "cell_type": "code",
   "execution_count": null,
   "metadata": {},
   "outputs": [],
   "source": [
    "# Librerías requeridas\n",
    "import numpy as np # librería para cálculo numérico\n",
    "import matplotlib.pyplot as plt # librería para gráficos"
   ]
  },
  {
   "cell_type": "markdown",
   "metadata": {},
   "source": [
    "<h4>Repaso: Estructuras de selección e iteración</h4>"
   ]
  },
  {
   "cell_type": "code",
   "execution_count": null,
   "metadata": {},
   "outputs": [],
   "source": [
    "# La estructura básica de un ciclo de iteración es\n",
    "\"\"\"\n",
    "for <variable> in <un rango de valores>:\n",
    "    <instrucciones>\n",
    "\"\"\" \n",
    "\n",
    "for i in range(5):\n",
    "    print(i)"
   ]
  },
  {
   "cell_type": "code",
   "execution_count": null,
   "metadata": {},
   "outputs": [],
   "source": [
    "# La estructura básica de un ciclo de selección es\n",
    "\"\"\"\n",
    "if <prueba lógica>:\n",
    "    <instrucciones si es verdadero>\n",
    "else:\n",
    "     <instrucciones si es falso>\n",
    "\"\"\"\n",
    "\n",
    "x = 10\n",
    "if x == 10:\n",
    "    print('verdadero')\n",
    "else:\n",
    "    print('falso')"
   ]
  },
  {
   "cell_type": "code",
   "execution_count": null,
   "metadata": {},
   "outputs": [],
   "source": [
    "# Ejemplo de aplicación: Modelo de propagación del CoVid-19\n",
    "# (ver video explicativo)\n"
   ]
  },
  {
   "cell_type": "markdown",
   "metadata": {},
   "source": [
    "<h4>1. Cálculo de promedio</h4>"
   ]
  },
  {
   "cell_type": "code",
   "execution_count": null,
   "metadata": {},
   "outputs": [],
   "source": [
    "# Se tiene una lista que contiene las calificaciones de la asignatura. \n",
    "# notas = [nota1, nota2, nota3, nota4, nota5]\n",
    "notas = [4.2, 3.1, 5.1, 2.3, 4.0]\n",
    "print(notas)"
   ]
  },
  {
   "cell_type": "code",
   "execution_count": null,
   "metadata": {},
   "outputs": [],
   "source": [
    "# Se tiene otro arreglo que contiene las ponderaciones de cada nota\n",
    "pond = [.15, .20, .20, .15, .30]\n",
    "print(pond)"
   ]
  },
  {
   "cell_type": "code",
   "execution_count": null,
   "metadata": {},
   "outputs": [],
   "source": [
    "# 1.1. Construya un programa que calcule y muestre el promedio ponderado,\n",
    "# utilizando no más de 4 líneas de código.\n"
   ]
  },
  {
   "cell_type": "code",
   "execution_count": null,
   "metadata": {},
   "outputs": [],
   "source": [
    "# 1.2. Agregue al programa anterior la opción de determinar si el\n",
    "# alumno aprueba o reprueba la asignatura."
   ]
  },
  {
   "cell_type": "markdown",
   "metadata": {},
   "source": [
    "<h4>2. Cálculo de polos de una función de transferencia de segundo orden</h4>"
   ]
  },
  {
   "cell_type": "markdown",
   "metadata": {},
   "source": [
    "Una función de transferencia de segundo orden tiene la forma estándar:\n",
    "$H(s)=\\frac{k\\omega _{n}^{2}}{s^{2}+2\\xi \\omega _{n}s+\\omega _{n}^{2}}$ <br>\n",
    "en la cual se identifican fácilmente los parámetros del sistema: $k$ es la ganancia del sistema, $\\xi$ es el factor de amortiguación y $\\omega _{n}$ es la frecuencia natural de oscilación.<br>\n",
    "Sin embargo, usualmente las funciones de transferencia se escriben en formas más simples, como puede ser $H(s)=\\frac{n}{as^{2}+bs+c}$, en la cual el numerador se escribe simplemente como una constante $n$ y el denominador puede escribirse en la forma genérica: $a{s^{2}}+b{s}+c$ <br>\n",
    "Por ejemplo, en $H(s)=\\frac{2}{3s^{2}+2s+1}$ se tiene $n=2$, $a=3$, $b=2$ y $c=1$.\n"
   ]
  },
  {
   "cell_type": "code",
   "execution_count": null,
   "metadata": {},
   "outputs": [],
   "source": [
    "# Para ingresar los índices del numerador y denominador, utilizaremos listas:\n",
    "\n",
    "num = [2]\n",
    "den = [3, 2, 1]"
   ]
  },
  {
   "cell_type": "markdown",
   "metadata": {},
   "source": [
    "Los polos de la función de transferencia se calculan como $p_{1,2}=\\frac{-b\\pm \\sqrt{b^{2}-4ac}}{2a}$, a partir de los cuales es posible conocer la estabilidad y el comportamiento del sistema."
   ]
  },
  {
   "cell_type": "code",
   "execution_count": null,
   "metadata": {},
   "outputs": [],
   "source": [
    "# 2.1. Calcular los polos del sistema.\n",
    "# El resultado debe estar guardado en una lista p = [p1, p2]\n",
    "# Si los polos son reales, el resultado sera de tipo 'float'\n",
    "# Si los polos son complejos, cada polo será una lista, ej. p1 = [re, im]\n",
    "# donde re, im representan la parte real e imaginaria, cada uno de tipo 'float'."
   ]
  },
  {
   "cell_type": "code",
   "execution_count": null,
   "metadata": {},
   "outputs": [],
   "source": [
    "# 2.2. Graficar la ubicación de los polos del sistema.\n",
    "# El programa debe leer la lista p = [p1, p2] y realizar las operaciones\n",
    "# necesarias para mostrar la ubicación de los polos en el plano complejo.\n",
    "# Guiarse por la forma de realizar gráficas en Taller 0"
   ]
  },
  {
   "cell_type": "code",
   "execution_count": null,
   "metadata": {},
   "outputs": [],
   "source": [
    "####################### Extra Bonus #####################\n",
    "# 2.3. Graficar la respuesta en el tiempo al escalón unitario.\n",
    "# Para recordar las expresiones matemáticas que describen la respuesta\n",
    "# en el tiempo de sistemas de segundo orden puede consultar el\n",
    "# siguiente documento:\n",
    "# www.robolabo.etsit.upm.es/asignaturas/seco/apuntes/SistemaOrden2-P-PD.pdf"
   ]
  },
  {
   "cell_type": "code",
   "execution_count": null,
   "metadata": {},
   "outputs": [],
   "source": []
  }
 ],
 "metadata": {
  "kernelspec": {
   "display_name": "Python 3",
   "language": "python",
   "name": "python3"
  },
  "language_info": {
   "codemirror_mode": {
    "name": "ipython",
    "version": 2
   },
   "file_extension": ".py",
   "mimetype": "text/x-python",
   "name": "python",
   "nbconvert_exporter": "python",
   "pygments_lexer": "ipython2",
   "version": "2.7.12"
  }
 },
 "nbformat": 4,
 "nbformat_minor": 2
}
