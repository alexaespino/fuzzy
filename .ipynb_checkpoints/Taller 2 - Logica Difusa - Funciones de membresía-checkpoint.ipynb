{
 "cells": [
  {
   "cell_type": "markdown",
   "metadata": {},
   "source": [
    "<h3>Taller 2 - Lógica Difusa - Funciones de membresía</h3>"
   ]
  },
  {
   "cell_type": "code",
   "execution_count": null,
   "metadata": {
    "scrolled": true
   },
   "outputs": [],
   "source": [
    "# Librerías requeridas\n",
    "import numpy as np\n",
    "import matplotlib.pyplot as plt"
   ]
  },
  {
   "cell_type": "markdown",
   "metadata": {},
   "source": [
    "Con este taller comenzaremos la construcción de una librería de python para lógica difusa.<br>\n",
    "Una librería es un archivo que contiene la definición variadas funciones y parámetros que pueden ser posteriormente utilizadas.<br>\n",
    "Una librería de python se construye en un archivo de texto con extensión .py y que comienza con el encabezado <br> #!/usr/bin/env python"
   ]
  },
  {
   "cell_type": "code",
   "execution_count": null,
   "metadata": {},
   "outputs": [],
   "source": [
    "#!/usr/bin/env python\n",
    "# -*- coding: utf-8 -*-\n",
    "#\n",
    "# Librería 'fuzzy.py', para aplicaciones de lógica difusa.\n",
    "# Autores: Curso de Control Inteligente, INACAP Puente Alto. \n",
    "# Profesor Guía: Claudio Morales Díaz \n",
    "# Santiago, Chile, 2020.\n",
    "# "
   ]
  },
  {
   "cell_type": "markdown",
   "metadata": {},
   "source": [
    "<h4>1. Funciones de membresía singleton, triangular y trapezoidal</h4>"
   ]
  },
  {
   "cell_type": "code",
   "execution_count": null,
   "metadata": {},
   "outputs": [],
   "source": [
    "#\n",
    "# Función singleton(x, x0): función de pertenencia singleton.\n",
    "# Argumentos:\n",
    "#   x: int, float, numpy.ndarray\n",
    "#      Contiene los valores de x en el universo de discurso\n",
    "#      para los cuales se evalúa su valor de pertenencia.\n",
    "#   x0: valor de referencia (int, float)\n",
    "# Retorna:\n",
    "#   singleton(x, x0): float, si x es int, float.\n",
    "#   singleton(x, x0): numpy.ndarray: si x es numpy.ndarray\n",
    "#   -1 si no es posible calcular el valor\n",
    "#\n",
    "def singleton(x, x0):\n",
    "    if (type(x) is int) or (type(x) is float):\n",
    "    # Si X es entero o real evalua para el valor entrante.\n",
    "        if x == x0:\n",
    "            m = 1.0\n",
    "        else:\n",
    "            m = 0.0\n",
    "        return m\n",
    "    elif (type(x) is np.ndarray):\n",
    "    # Si es un arreglo, evalua para todos sus elementos.\n",
    "        m = np.zeros(x.size)\n",
    "        for i in range(x.size):\n",
    "            if x[i] == x0:\n",
    "                m[i] = 1.0\n",
    "            else:\n",
    "                m[i] = 0.0\n",
    "        return m\n",
    "    else:\n",
    "        return -1\n",
    "    "
   ]
  },
  {
   "cell_type": "code",
   "execution_count": null,
   "metadata": {},
   "outputs": [],
   "source": [
    "# verificamos funcionamiento de la función...\n",
    "x = np.linspace(0, 10, 1001)\n",
    "x0 = 4.5\n",
    "m = singleton(x, x0)\n",
    "xtest = 6\n",
    "print(\"Con x0\", x0, \"el valor singleton de xtest es\", singleton(xtest, x0))\n",
    "plt.plot(x,m)\n",
    "plt.show()"
   ]
  },
  {
   "cell_type": "code",
   "execution_count": null,
   "metadata": {},
   "outputs": [],
   "source": [
    "#\n",
    "# Función trimf(x, param): función de pertenencia triangular.\n",
    "# Argumentos:\n",
    "#   x: int, float, numpy.ndarray\n",
    "#      Contiene los valores de x en el universo de discurso\n",
    "#      para los cuales se evalúa su valor de pertenencia.\n",
    "#   param = [a, b, c]: list, numpy.ndarray\n",
    "#      contiene los parámetros de la función de pertenencia\n",
    "#      debe cumplirse a <= b <= c\n",
    "# Retorna:\n",
    "#   valor de pertencia de x según función de membresía triangular.\n",
    "#   trimf(x, param): float, si x es int, float.\n",
    "#   trimf(x, param): numpy.ndarray: si x es numpy.ndarray\n",
    "#   -1 si no es posible calcular el valor\n",
    "#\n",
    "def trimf(x, param):\n",
    "    # param = [a, b, c]\n",
    "    # a <= b <= c\n",
    "    a = float(param[0])\n",
    "    b = float(param[1])\n",
    "    c = float(param[2])\n",
    "    if (a <= b) and (b <= c):\n",
    "        if (type(x) is int) or (type(x) is float):     \n",
    "            if x <= a:\n",
    "                m = 0.0\n",
    "            elif (a <= x) and (x <= b):\n",
    "                m = (x - a)/(b - a)   \n",
    "            elif (b <= x) and (x <= c):\n",
    "                m = (c - x)/(c - b)  \n",
    "            else:\n",
    "                m = 0.0\n",
    "            return m\n",
    "        else: \n",
    "            m = np.zeros(x.size)\n",
    "            for i in range(x.size):\n",
    "                if x[i] <= a:\n",
    "                    m[i] = 0.0\n",
    "                elif (a <= x[i]) and (x[i] <= b):\n",
    "                    m[i] = (x[i] - a)/(b - a)   \n",
    "                elif (b <= x[i]) and (x[i] <= c):\n",
    "                    m[i] = (c - x[i])/(c - b)  \n",
    "                else:\n",
    "                    m[i] = 0.0\n",
    "            return m\n",
    "    else:\n",
    "        return -1\n"
   ]
  },
  {
   "cell_type": "code",
   "execution_count": null,
   "metadata": {},
   "outputs": [],
   "source": [
    "# verificamos funcionamiento de la función...\n",
    "x = np.linspace(-10, 10, 1001)\n",
    "a, b, c = -4, -1, 8\n",
    "xtest = 2.\n",
    "m = trimf(x, [a, b, c])\n",
    "plt.plot(x,m)\n",
    "print(\"para xtest =\", xtest, \"m(x) =\", trimf(xtest,[a, b, c]))"
   ]
  },
  {
   "cell_type": "code",
   "execution_count": null,
   "metadata": {},
   "outputs": [],
   "source": [
    "#\n",
    "# Función trapmf(x, [a, b, c, d]): función de pertenencia trapezoidal.\n",
    "# Argumentos:\n",
    "#   x: int, float, numpy.ndarray\n",
    "#      Contiene los valores de x en el universo de discurso\n",
    "#      para los cuales se evalúa su valor de pertenencia.\n",
    "#   [a, b, c, d]: list, numpy.ndarray\n",
    "#      contiene los parámetros de la función de pertenencia\n",
    "#      debe cumplirse a <= b <= c <= d\n",
    "# Retorna:\n",
    "#   valor de pertencia de x según función de membresía triangular.\n",
    "#   trapmf(x, param): float, si x es int, float.\n",
    "#   trapmf(x, param): numpy.ndarray: si x es numpy.ndarray\n",
    "#   -1 si no es posible calcular el valor\n",
    "#\n",
    "def trapmf(x, param):\n",
    "    # param = [a, b, c, d]\n",
    "    # a <= b <= c <=d\n",
    "    a = float(param[0])\n",
    "    b = float(param[1])\n",
    "    c = float(param[2])\n",
    "    d = float(param[3])\n",
    "    if (a <= b) and (b <= c) and (c <= d):\n",
    "        if (type(x) is int) or (type(x) is float):     \n",
    "            if x <= a:\n",
    "                m = 0.0\n",
    "            elif (a <= x) and (x <= b):\n",
    "                m = (x - a)/(b - a)   \n",
    "            elif (b <= x) and (x <= c):\n",
    "                m = 1.0  \n",
    "            elif (c <= x) and (x <= d):\n",
    "                m = (d - x)/(d - c)  \n",
    "            else:\n",
    "                m = 0.0\n",
    "            return m\n",
    "        else: \n",
    "            m = np.zeros(x.size)\n",
    "            for i in range(x.size):\n",
    "                if x[i] <= a:\n",
    "                    m[i] = 0.0\n",
    "                elif (a <= x[i]) and (x[i] <= b):\n",
    "                    m[i] = (x[i] - a)/(b - a)   \n",
    "                elif (b <= x[i]) and (x[i] <= c):\n",
    "                    m[i] = 1.0\n",
    "                elif (c <= x[i]) and (x[i] <= d):\n",
    "                    m[i] = (d - x[i])/(d - c)  \n",
    "                else:\n",
    "                    m[i] = 0.0\n",
    "            return m\n",
    "    else:\n",
    "        return -1\n"
   ]
  },
  {
   "cell_type": "code",
   "execution_count": null,
   "metadata": {},
   "outputs": [],
   "source": [
    "# verificamos funcionamiento de la función...\n",
    "x = np.linspace(0, 10, 1001, endpoint=True)\n",
    "a, b, c, d = 2, 5, 7, 8\n",
    "m = trapmf(x, [a, b, c, d])\n",
    "xtest = 7.5\n",
    "plt.plot(x,m)\n",
    "print(\"si xtest =\", xtest, \"m(x) =\", trapmf(xtest,[a, b, c, d]))"
   ]
  },
  {
   "cell_type": "markdown",
   "metadata": {},
   "source": [
    "<h4>Taller 2 - Construcción de funciones de membresía</h4>\n",
    "Tomando como ejemplo las funciones singleton, trimf y trapmf, construya las funciones gaussmf, gbellmf y sigmf.<br>\n",
    "Verificar el funcionamiento de las funciones graficando según los códigos de prueba que se proponen."
   ]
  },
  {
   "cell_type": "code",
   "execution_count": null,
   "metadata": {},
   "outputs": [],
   "source": [
    "#\n",
    "# Función gaussmf(x, param): función de pertenencia gaussiana.\n",
    "# Argumentos:\n",
    "#   x: int, float, numpy.ndarray\n",
    "#      Contiene los valores de x en el universo de discurso\n",
    "#      para los cuales se evalúa su valor de pertenencia.\n",
    "#   param = [sig, x0]: list, numpy.ndarray\n",
    "#      contiene los parámetros de la función de pertenencia\n",
    "#      debe cumplirse sig > 0\n",
    "# Retorna:\n",
    "#   valor de pertencia de x según función de membresía triangular.\n",
    "#   gaussmf(x, param): float, si x es int, float.\n",
    "#   gaussmf(x, param): numpy.ndarray: si x es numpy.ndarray\n",
    "#   -1 si no es posible calcular el valor\n",
    "#\n",
    "\n",
    "def gaussmf(x, param):\n",
    "    # param = [sig, x0]\n",
    "    # sig > 0\n",
    "    sig = param[0]\n",
    "    x0 = param[1]\n",
    "    if (sig > 0):\n",
    "        pass\n",
    "        # escriba aquí su código\n",
    "    else:\n",
    "        return -1\n"
   ]
  },
  {
   "cell_type": "code",
   "execution_count": null,
   "metadata": {},
   "outputs": [],
   "source": [
    "## verificamos funcionamiento de la función...\n",
    "x = np.linspace(0, 10, 1001, endpoint=True)\n",
    "sig, x0 = 1, 5\n",
    "m = gaussmf(x, [sig, x0])\n",
    "xtest = 6\n",
    "plt.plot(x,m)\n",
    "print(\"si xtest =\", xtest, \"m(x) =\", gaussmf(xtest,[sig, x0]))"
   ]
  },
  {
   "cell_type": "code",
   "execution_count": null,
   "metadata": {},
   "outputs": [],
   "source": [
    "#\n",
    "# Función gbellmf(x, param): función de pertenencia campana generalizada.\n",
    "#   x: int, float, numpy.ndarray\n",
    "#      Contiene los valores de x en el universo de discurso\n",
    "#      para los cuales se evalúa su valor de pertenencia.\n",
    "#   param = [a, b, x0]: list, numpy.ndarray\n",
    "#      contiene los parámetros de la función de pertenencia\n",
    "#      debe cumplirse a, b > 0\n",
    "# Retorna:\n",
    "#   valor de pertencia de x según función de membresía triangular.\n",
    "#   gbellmf(x, param): float, si x es int, float.\n",
    "#   gbellmf(x, param): numpy.ndarray: si x es numpy.ndarray\n",
    "#   -1 si no es posible calcular el valor\n",
    "#\n",
    "def gbellmf(x, param):\n",
    "    # param = [a, b, x0]\n",
    "    # a, b > 0\n",
    "    a = param[0]\n",
    "    b = param[1]\n",
    "    x0 = param[2]\n",
    "    if (a > 0) and (b > 0):\n",
    "        pass\n",
    "        # Ecriba aquí su código\n",
    "    else:\n",
    "        return -1\n"
   ]
  },
  {
   "cell_type": "code",
   "execution_count": null,
   "metadata": {},
   "outputs": [],
   "source": [
    "# verificamos funcionamiento de la función...\n",
    "x = np.linspace(0, 10, 1001)\n",
    "a, b, x0 = 3, 4, 5\n",
    "m = gbellmf(x, [a, b, x0])\n",
    "xtest = 6\n",
    "plt.plot(x,m)\n",
    "print(\"si xtest =\", xtest, \"m(x) =\", gbellmf(xtest,[a, b, x0]))"
   ]
  },
  {
   "cell_type": "code",
   "execution_count": null,
   "metadata": {},
   "outputs": [],
   "source": [
    "#\n",
    "# Función sigmf(): función de pertenencia sigmoidal.\n",
    "#   x: int, float, numpy.ndarray\n",
    "#      Contiene los valores de x en el universo de discurso\n",
    "#      para los cuales se evalúa su valor de pertenencia.\n",
    "#   param = [a, x0]: list, numpy.ndarray\n",
    "#      contiene los parámetros de la función de pertenencia\n",
    "# Retorna:\n",
    "#   valor de pertencia de x según función de membresía triangular.\n",
    "#   sigmf(x, param): float, si x es int, float.\n",
    "#   sigmf(x, param): numpy.ndarray: si x es numpy.ndarray\n",
    "#   -1 si no es posible calcular el valor\n",
    "#\n",
    "def sigmf(x, param):\n",
    "    # param = [a, x0]\n",
    "    a = param[0]\n",
    "    x0 = param[1]\n",
    "    \n",
    "    # escriba su código aquí\n"
   ]
  },
  {
   "cell_type": "code",
   "execution_count": null,
   "metadata": {},
   "outputs": [],
   "source": [
    "# verificamos funcionamiento de la función...\n",
    "x = np.linspace(0, 10, 1001)\n",
    "a, x0 = 1, 5\n",
    "xtest = 6\n",
    "m = sigmf(x, [a, x0])\n",
    "plt.plot(x,m)\n",
    "print(\"si xtest =\", xtest, \"m(x) =\", sigmf(xtest,[a, x0]))"
   ]
  },
  {
   "cell_type": "code",
   "execution_count": null,
   "metadata": {},
   "outputs": [],
   "source": []
  }
 ],
 "metadata": {
  "kernelspec": {
   "display_name": "Python 3 (ipykernel)",
   "language": "python",
   "name": "python3"
  },
  "language_info": {
   "codemirror_mode": {
    "name": "ipython",
    "version": 3
   },
   "file_extension": ".py",
   "mimetype": "text/x-python",
   "name": "python",
   "nbconvert_exporter": "python",
   "pygments_lexer": "ipython3",
   "version": "3.9.4"
  }
 },
 "nbformat": 4,
 "nbformat_minor": 2
}
